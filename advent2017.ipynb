{
 "cells": [
  {
   "cell_type": "code",
   "execution_count": 43,
   "metadata": {
    "collapsed": true
   },
   "outputs": [],
   "source": [
    "import numpy as np\n",
    "import urllib.request\n",
    "import math\n",
    "\n",
    "from collections import deque\n",
    "from functools import lru_cache\n",
    "\n",
    "def getInput(day):\n",
    "    filename = \"input{}.txt\".format(day)\n",
    "    try:\n",
    "        return open(filename)\n",
    "    except FileNotFoundError:\n",
    "        print(\"Input file not found for day {}\".format(day))\n",
    "\n",
    "def addRect(r1, r2):\n",
    "    return [r1[0] + r2[0], r1[1] + r2[1]]\n",
    "\n",
    "def scale(r1, x):\n",
    "    return [x*r1[0], x*r1[1]]"
   ]
  },
  {
   "cell_type": "code",
   "execution_count": 9,
   "metadata": {},
   "outputs": [
    {
     "name": "stdout",
     "output_type": "stream",
     "text": [
      "input1.txt\n",
      "1069\n"
     ]
    }
   ],
   "source": [
    "# Day 1\n",
    "captcha = getInput(1).readline()\n",
    "# remove \"\\n\" if it exists at the end\n",
    "if captcha[-1] == \"\\n\":\n",
    "    captcha = captcha[:-1]\n",
    "# prepend last digit of captcha\n",
    "captcha += captcha[-1]\n",
    "# loop and sum\n",
    "total = 0\n",
    "for i, ch in enumerate(captcha[:-1]):\n",
    "    if ch == captcha[i+1]:\n",
    "        total += int(ch)\n",
    "print(total)"
   ]
  },
  {
   "cell_type": "code",
   "execution_count": 20,
   "metadata": {},
   "outputs": [
    {
     "name": "stdout",
     "output_type": "stream",
     "text": [
      "input2.txt\n",
      "51833\n"
     ]
    }
   ],
   "source": [
    "# Day 2\n",
    "input2 = getInput(2)\n",
    "checksum = 0\n",
    "row = input2.readline()\n",
    "while row != \"\":\n",
    "    cols = [int(s) for s in row.split()]\n",
    "    checksum += max(cols) - min(cols)\n",
    "    row = input2.readline()\n",
    "print(checksum)    "
   ]
  },
  {
   "cell_type": "code",
   "execution_count": 73,
   "metadata": {},
   "outputs": [
    {
     "name": "stdout",
     "output_type": "stream",
     "text": [
      "347991\n",
      "location [-185, 295]\n",
      "distance 480\n"
     ]
    }
   ],
   "source": [
    "# Day 3\n",
    "input3 = int(getInput(3).readline())\n",
    "print(input3)\n",
    "\n",
    "up, down, right, left = [0,1], [0,-1], [1,0], [-1,0]\n",
    "dir_seq = [right, up, left, down]\n",
    "\n",
    "steps = 1\n",
    "dir_num = 0\n",
    "n = 1\n",
    "loc = [0, 0] # start in origin\n",
    "while n + 2*steps < input3:\n",
    "    n += 2*steps\n",
    "    loc = addRect(loc, scale(dir_seq[dir_num], steps))\n",
    "    dir_num = (dir_num + 1) % 4\n",
    "    loc = addRect(loc, scale(dir_seq[dir_num], steps))\n",
    "    dir_num = (dir_num + 1) % 4\n",
    "    steps += 1\n",
    "if n + steps < input3:\n",
    "    n += steps\n",
    "    loc = addRect(loc, scale(dir_seq[dir_num], steps))\n",
    "    dir_num = (dir_num + 1) % 4\n",
    "\n",
    "steps = input3 - n\n",
    "loc = addRect(loc, scale(dir_seq[dir_num], steps))\n",
    "print(\"location\", loc)\n",
    "print(\"distance\", sum(map(abs, loc)))"
   ]
  },
  {
   "cell_type": "code",
   "execution_count": 83,
   "metadata": {},
   "outputs": [
    {
     "name": "stdout",
     "output_type": "stream",
     "text": [
      "383\n"
     ]
    }
   ],
   "source": [
    "# Day 4\n",
    "input4 = getInput(4)\n",
    "count = 0\n",
    "words = input4.readline().split()\n",
    "while not not words:\n",
    "    if len(words) == len(set(words)):\n",
    "        count += 1\n",
    "    words = input4.readline().split()\n",
    "print(count)"
   ]
  },
  {
   "cell_type": "code",
   "execution_count": 86,
   "metadata": {},
   "outputs": [
    {
     "name": "stdout",
     "output_type": "stream",
     "text": [
      "373543\n"
     ]
    }
   ],
   "source": [
    "# Day 5\n",
    "input5 = getInput(5)\n",
    "# Load all instructions into memory\n",
    "line = input5.readline()\n",
    "mem = []\n",
    "while not not line:\n",
    "    mem.append(int(line))\n",
    "    line = input5.readline()\n",
    "pc = 0\n",
    "bound = len(mem)\n",
    "steps = 0\n",
    "while pc >= 0 and pc < bound:\n",
    "    mem[pc] += 1\n",
    "    pc += mem[pc] - 1\n",
    "    steps += 1\n",
    "print(steps)"
   ]
  },
  {
   "cell_type": "code",
   "execution_count": 89,
   "metadata": {},
   "outputs": [
    {
     "name": "stdout",
     "output_type": "stream",
     "text": [
      "11137\n"
     ]
    }
   ],
   "source": [
    "# Day 6\n",
    "input6 = getInput(6)\n",
    "blocks = list(map(int, input6.readline().split()))\n",
    "nblocks = len(blocks)\n",
    "prevStates = []\n",
    "steps = 0\n",
    "def findIndexAtMax(arr):\n",
    "    temp = 0\n",
    "    for i, n in enumerate(arr):\n",
    "        if arr[i] > arr[temp]:\n",
    "            temp = i\n",
    "    return temp\n",
    "\n",
    "while tuple(blocks) not in prevStates:\n",
    "    prevStates.append(tuple(blocks))\n",
    "    # find max\n",
    "    index = findIndexAtMax(blocks)\n",
    "    count, blocks[index] = blocks[index], 0\n",
    "    while count > 0:\n",
    "        index += 1\n",
    "        blocks[index % nblocks] += 1\n",
    "        count -= 1\n",
    "    steps += 1\n",
    "print(steps)\n",
    "        "
   ]
  },
  {
   "cell_type": "code",
   "execution_count": 11,
   "metadata": {},
   "outputs": [
    {
     "ename": "TypeError",
     "evalue": "int() argument must be a string, a bytes-like object or a number, not 'list'",
     "output_type": "error",
     "traceback": [
      "\u001b[0;31m---------------------------------------------------------------------------\u001b[0m",
      "\u001b[0;31mTypeError\u001b[0m                                 Traceback (most recent call last)",
      "\u001b[0;32m<ipython-input-11-b5a8e9f08811>\u001b[0m in \u001b[0;36m<module>\u001b[0;34m()\u001b[0m\n\u001b[1;32m      1\u001b[0m \u001b[0;31m# Scratch cell\u001b[0m\u001b[0;34m\u001b[0m\u001b[0;34m\u001b[0m\u001b[0m\n\u001b[0;32m----> 2\u001b[0;31m \u001b[0mint\u001b[0m\u001b[0;34m(\u001b[0m\u001b[0;34m[\u001b[0m\u001b[0;34m\"1\"\u001b[0m\u001b[0;34m,\u001b[0m\u001b[0;34m\"2\"\u001b[0m\u001b[0;34m,\u001b[0m\u001b[0;34m\"3\"\u001b[0m\u001b[0;34m]\u001b[0m\u001b[0;34m)\u001b[0m\u001b[0;34m\u001b[0m\u001b[0m\n\u001b[0m",
      "\u001b[0;31mTypeError\u001b[0m: int() argument must be a string, a bytes-like object or a number, not 'list'"
     ]
    }
   ],
   "source": [
    "# Scratch cell\n",
    "int([\"1\",\"2\",\"3\"])"
   ]
  }
 ],
 "metadata": {
  "kernelspec": {
   "display_name": "Python 3",
   "language": "python",
   "name": "python3"
  },
  "language_info": {
   "codemirror_mode": {
    "name": "ipython",
    "version": 3
   },
   "file_extension": ".py",
   "mimetype": "text/x-python",
   "name": "python",
   "nbconvert_exporter": "python",
   "pygments_lexer": "ipython3",
   "version": "3.6.3"
  }
 },
 "nbformat": 4,
 "nbformat_minor": 2
}
